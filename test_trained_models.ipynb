{
 "cells": [
  {
   "cell_type": "code",
   "execution_count": 2,
   "metadata": {
    "collapsed": true
   },
   "outputs": [],
   "source": [
    "from mlflow import MlflowClient\n",
    "\n",
    "mlflow_client = MlflowClient(tracking_uri=\"http://127.0.0.1:5000\")"
   ]
  },
  {
   "cell_type": "code",
   "execution_count": 3,
   "outputs": [],
   "source": [
    "run_178 = \"d5fc2d434f3c4c58aff9b2a5f02a9b0a\"\n",
    "run_179 = \"9540f6dc8c5743a88514533a2c354240\"\n",
    "trial_num = 179\n",
    "run_info = mlflow_client.get_run(run_179)"
   ],
   "metadata": {
    "collapsed": false
   }
  },
  {
   "cell_type": "code",
   "execution_count": 4,
   "outputs": [],
   "source": [
    "from drecg.models.feat_extraction import DiffFeatureDetectorParam\n",
    "params = run_info.data.params\n",
    "model = DiffFeatureDetectorParam(num_hidden=int(params['num_hidden']),\n",
    "                   hidden_units=int(params['hidden_units']),\n",
    "                   features_dropout=float(params['features_dropout']),\n",
    "                   hidden_dropout=float(params['hidden_dropout']),\n",
    "                   hidden_act=params['hidden_act'],\n",
    "                   features_dim=int(params['features_size']))"
   ],
   "metadata": {
    "collapsed": false
   }
  },
  {
   "cell_type": "code",
   "execution_count": 20,
   "outputs": [
    {
     "data": {
      "text/plain": "<All keys matched successfully>"
     },
     "execution_count": 20,
     "metadata": {},
     "output_type": "execute_result"
    }
   ],
   "source": [
    "import torch\n",
    "from drecg.models.feat_extraction import DiffFeatureDetectorParamBiDirectional\n",
    "params = run_info.data.params\n",
    "trial_num = 62\n",
    "run_62 = \"720c3339f754418683b69e5c521f3656\"\n",
    "run_info = mlflow_client.get_run(run_62)\n",
    "params = run_info.data.params\n",
    "model_62 = DiffFeatureDetectorParamBiDirectional(num_hidden=int(params['num_hidden']),\n",
    "                   hidden_units=int(params['hidden_units']),\n",
    "                   features_dropout=float(params['features_dropout']),\n",
    "                   hidden_dropout=float(params['hidden_dropout']),\n",
    "                   hidden_act=params['hidden_act'],\n",
    "                   features_dim=int(params['features_size']))\n",
    "\n",
    "model_62.load_state_dict(torch.load(f\"saved_models/optim_10_feb_2023/{trial_num}.ckpt\"))"
   ],
   "metadata": {
    "collapsed": false
   }
  },
  {
   "cell_type": "code",
   "execution_count": 5,
   "outputs": [
    {
     "data": {
      "text/plain": "<All keys matched successfully>"
     },
     "execution_count": 5,
     "metadata": {},
     "output_type": "execute_result"
    }
   ],
   "source": [
    "import torch\n",
    "model.load_state_dict(torch.load(f\"mlflow_models/{trial_num}.ckpt\"))"
   ],
   "metadata": {
    "collapsed": false
   }
  },
  {
   "cell_type": "code",
   "execution_count": 6,
   "outputs": [],
   "source": [
    "\n",
    "model_scripted = torch.jit.script(model) # Export to TorchScript\n",
    "model_scripted.save('model_scripted_first_deploy.pt')"
   ],
   "metadata": {
    "collapsed": false
   }
  },
  {
   "cell_type": "code",
   "execution_count": 47,
   "outputs": [
    {
     "data": {
      "text/plain": "RecursiveScriptModule(\n  original_name=DiffFeatureDetectorParamBiDirectional\n  (cls_layer): RecursiveScriptModule(\n    original_name=Sequential\n    (features_dropout): RecursiveScriptModule(original_name=Dropout)\n    (linear_0): RecursiveScriptModule(original_name=Linear)\n    (relu_0): RecursiveScriptModule(original_name=ReLU)\n    (hidden_dropout_0): RecursiveScriptModule(original_name=Dropout)\n    (linear_1): RecursiveScriptModule(original_name=Linear)\n    (relu_1): RecursiveScriptModule(original_name=ReLU)\n    (hidden_dropout_1): RecursiveScriptModule(original_name=Dropout)\n    (linear_out): RecursiveScriptModule(original_name=Linear)\n  )\n)"
     },
     "execution_count": 47,
     "metadata": {},
     "output_type": "execute_result"
    }
   ],
   "source": [
    "model_scripted = torch.jit.script(model_62) # Export to TorchScript\n",
    "model_scripted.save('model_scripted_62.pt') # Save\n",
    "model_scripted"
   ],
   "metadata": {
    "collapsed": false
   }
  },
  {
   "cell_type": "code",
   "execution_count": 7,
   "outputs": [
    {
     "data": {
      "text/plain": "RecursiveScriptModule(\n  original_name=DiffFeatureDetectorParam\n  (cls_layer): RecursiveScriptModule(\n    original_name=Sequential\n    (features_dropout): RecursiveScriptModule(original_name=Dropout)\n    (linear_0): RecursiveScriptModule(original_name=Linear)\n    (relu_0): RecursiveScriptModule(original_name=ReLU)\n    (hidden_dropout_0): RecursiveScriptModule(original_name=Dropout)\n    (linear_out): RecursiveScriptModule(original_name=Linear)\n  )\n)"
     },
     "execution_count": 7,
     "metadata": {},
     "output_type": "execute_result"
    }
   ],
   "source": [
    "model2 = torch.jit.load('model_scripted.pt')\n",
    "model2.eval()"
   ],
   "metadata": {
    "collapsed": false
   }
  },
  {
   "cell_type": "code",
   "execution_count": 27,
   "outputs": [],
   "source": [
    "import PIL.Image as Image\n",
    "def read_sample_imgs(num, path='./samples'):\n",
    "    img_a = Image.open(f\"{path}/{num}a.png\")\n",
    "    img_b = Image.open(f\"{path}/{num}b.png\")\n",
    "    img_a, img_b = img_a.convert('RGB'), img_b.convert('RGB')\n",
    "    return img_a, img_b\n"
   ],
   "metadata": {
    "collapsed": false
   }
  },
  {
   "cell_type": "code",
   "execution_count": 28,
   "outputs": [
    {
     "data": {
      "text/plain": "Loading checkpoint shards:   0%|          | 0/2 [00:00<?, ?it/s]",
      "application/vnd.jupyter.widget-view+json": {
       "version_major": 2,
       "version_minor": 0,
       "model_id": "40345167faa943ee98a9489e04ad43e2"
      }
     },
     "metadata": {},
     "output_type": "display_data"
    }
   ],
   "source": [
    "from drecg.models.feat_extraction import VitLaionFeatureExtractor\n",
    "feat_extractor = VitLaionFeatureExtractor()\n",
    "processor = feat_extractor.transforms"
   ],
   "metadata": {
    "collapsed": false
   }
  },
  {
   "cell_type": "code",
   "execution_count": 48,
   "outputs": [],
   "source": [
    "import torch\n",
    "model = model_scripted\n",
    "model.eval()\n",
    "feat_extractor.to(device)\n",
    "model.to(device)\n",
    "def predict_diff(sample_num):\n",
    "    a, b = read_sample_imgs(sample_num)\n",
    "    x = processor(a).unsqueeze(dim=0).to(device), processor(b).unsqueeze(dim=0).to(device)\n",
    "    feats = feat_extractor(x)\n",
    "    proba = torch.sigmoid(model((feats[0].to(device), feats[1].to(device)))).item()\n",
    "    print(\"%.7f\" % proba)"
   ],
   "metadata": {
    "collapsed": false
   }
  },
  {
   "cell_type": "code",
   "execution_count": 49,
   "outputs": [
    {
     "name": "stdout",
     "output_type": "stream",
     "text": [
      "1\n",
      "0.0000023\n",
      "3\n",
      "0.9970760\n",
      "4\n"
     ]
    },
    {
     "name": "stderr",
     "output_type": "stream",
     "text": [
      "/home/daniel/mambaforge/envs/dogrec/lib/python3.10/site-packages/torch/nn/modules/module.py:1194: UserWarning: FALLBACK path has been taken inside: runCudaFusionGroup. This is an indication that codegen Failed for some reason.\n",
      "To debug try disable codegen fallback path via setting the env variable `export PYTORCH_NVFUSER_DISABLE=fallback`\n",
      " (Triggered internally at /opt/conda/conda-bld/pytorch_1670525541990/work/torch/csrc/jit/codegen/cuda/manager.cpp:331.)\n",
      "  return forward_call(*input, **kwargs)\n"
     ]
    },
    {
     "name": "stdout",
     "output_type": "stream",
     "text": [
      "0.2090216\n",
      "5\n",
      "0.1683520\n",
      "6\n",
      "0.9458011\n",
      "8\n",
      "0.9732897\n",
      "28\n",
      "0.0026034\n",
      "10\n",
      "0.0000000\n",
      "11\n",
      "0.0000033\n",
      "12\n",
      "0.0080022\n",
      "13\n",
      "0.0735051\n",
      "20\n",
      "0.0053240\n",
      "21\n",
      "0.0000000\n",
      "22\n",
      "0.7028679\n",
      "23\n",
      "0.8426622\n",
      "24\n",
      "0.0032309\n",
      "25\n",
      "0.9177830\n",
      "26\n",
      "0.0544644\n",
      "27\n",
      "0.7434675\n",
      "28\n",
      "0.0026034\n"
     ]
    }
   ],
   "source": [
    "for i in [1,3,4,5,6,8,28, 10, 11, 12 ,13, 20, 21,22,23,24,25,26,27,28]:\n",
    "    print(i)\n",
    "    predict_diff(i)"
   ],
   "metadata": {
    "collapsed": false
   }
  },
  {
   "cell_type": "code",
   "execution_count": 46,
   "outputs": [
    {
     "name": "stdout",
     "output_type": "stream",
     "text": [
      "1\n",
      "0.0000008\n",
      "3\n",
      "0.9989937\n",
      "4\n",
      "0.7613308\n",
      "5\n",
      "0.1346551\n",
      "6\n",
      "0.9616435\n",
      "8\n",
      "0.9964180\n",
      "28\n",
      "0.1397899\n",
      "10\n",
      "0.0000001\n",
      "11\n",
      "0.0000000\n",
      "12\n",
      "0.0009009\n",
      "13\n",
      "0.0031633\n",
      "20\n",
      "0.0040430\n",
      "21\n",
      "0.0000000\n",
      "22\n",
      "0.8266684\n",
      "23\n",
      "0.9964795\n",
      "24\n",
      "0.0002980\n",
      "25\n",
      "0.9864895\n",
      "26\n",
      "0.0014194\n",
      "27\n",
      "0.1015408\n",
      "28\n",
      "0.1397899\n"
     ]
    }
   ],
   "source": [
    "for i in [1,3,4,5,6,8,28, 10, 11, 12 ,13, 20, 21,22,23,24,25,26,27,28]:\n",
    "    print(i)\n",
    "    predict_diff(i)"
   ],
   "metadata": {
    "collapsed": false
   }
  },
  {
   "cell_type": "code",
   "execution_count": 45,
   "outputs": [
    {
     "data": {
      "text/plain": "DiffFeatureDetectorParam(\n  (cls_layer): Sequential(\n    (features_dropout): Dropout(p=0.43686443329650726, inplace=False)\n    (linear_0): Linear(in_features=1280, out_features=110, bias=True)\n    (relu_0): ReLU()\n    (hidden_dropout_0): Dropout(p=0.46546498086133914, inplace=False)\n    (linear_out): Linear(in_features=110, out_features=1, bias=True)\n  )\n)"
     },
     "execution_count": 45,
     "metadata": {},
     "output_type": "execute_result"
    }
   ],
   "source": [
    "model"
   ],
   "metadata": {
    "collapsed": false
   }
  },
  {
   "cell_type": "code",
   "execution_count": 24,
   "outputs": [],
   "source": [
    "from torch.utils.data import DataLoader\n",
    "from drecg.data.utils import FeaturesDataset\n",
    "\n",
    "test_dataset_bi = FeaturesDataset('features_ext_vit_laion/validation_features.pt', bidirectional=True)\n",
    "test_dataset = FeaturesDataset('features_ext_vit_laion/validation_features.pt', bidirectional=False)\n",
    "test_dataloader_bi = DataLoader(test_dataset_bi, batch_size=32, shuffle=False, num_workers=12)\n",
    "test_dataloader = DataLoader(test_dataset, batch_size=32, shuffle=False, num_workers=12)"
   ],
   "metadata": {
    "collapsed": false
   }
  },
  {
   "cell_type": "code",
   "execution_count": 6,
   "outputs": [],
   "source": [
    "from ignite.engine import create_supervised_evaluator\n",
    "from drecg.training.ignite import acc_transform_fn, output_transform_fn, prepare_batch_fn\n",
    "from ignite.metrics import Accuracy, Loss\n",
    "\n",
    "device = torch.device(\"cuda:0\" if torch.cuda.is_available() else \"cpu\")\n",
    "loss_fn = torch.nn.BCEWithLogitsLoss()\n",
    "model.to(device)\n",
    "\n",
    "val_metrics = {\n",
    "    \"accuracy\": Accuracy(output_transform=acc_transform_fn),\n",
    "    \"loss\": Loss(loss_fn, output_transform=lambda out: (out[1], out[0]))}\n",
    "evaluator = create_supervised_evaluator(\n",
    "        model,\n",
    "        device=device,\n",
    "        output_transform=output_transform_fn,\n",
    "        prepare_batch=prepare_batch_fn,\n",
    "        non_blocking=True,\n",
    "        metrics=val_metrics)"
   ],
   "metadata": {
    "collapsed": false
   }
  },
  {
   "cell_type": "code",
   "execution_count": 7,
   "outputs": [
    {
     "data": {
      "text/plain": "{'accuracy': 0.8872832369942196, 'loss': 0.3138719679992323}"
     },
     "execution_count": 7,
     "metadata": {},
     "output_type": "execute_result"
    }
   ],
   "source": [
    "evaluator.run(test_dataloader)\n",
    "evaluator.state.metrics"
   ],
   "metadata": {
    "collapsed": false
   }
  },
  {
   "cell_type": "code",
   "execution_count": 8,
   "outputs": [
    {
     "data": {
      "text/plain": "{'accuracy': 0.880057803468208, 'loss': 0.30866464162837565}"
     },
     "execution_count": 8,
     "metadata": {},
     "output_type": "execute_result"
    }
   ],
   "source": [
    "evaluator.run(test_dataloader_bi)\n",
    "evaluator.state.metrics"
   ],
   "metadata": {
    "collapsed": false
   }
  },
  {
   "cell_type": "code",
   "execution_count": 21,
   "outputs": [],
   "source": [
    "model_62.to(device)\n",
    "val_metrics = {\n",
    "    \"accuracy\": Accuracy(output_transform=acc_transform_fn),\n",
    "    \"loss\": Loss(loss_fn, output_transform=lambda out: (out[1], out[0]))}\n",
    "evaluator = create_supervised_evaluator(\n",
    "        model_62,\n",
    "        device=device,\n",
    "        output_transform=output_transform_fn,\n",
    "        prepare_batch=prepare_batch_fn,\n",
    "        non_blocking=True,\n",
    "        metrics=val_metrics)"
   ],
   "metadata": {
    "collapsed": false
   }
  },
  {
   "cell_type": "code",
   "execution_count": 17,
   "outputs": [
    {
     "data": {
      "text/plain": "{'accuracy': 0.9132947976878613, 'loss': 0.27019147928050485}"
     },
     "execution_count": 17,
     "metadata": {},
     "output_type": "execute_result"
    }
   ],
   "source": [
    "evaluator.run(test_dataloader)\n",
    "evaluator.state.metrics"
   ],
   "metadata": {
    "collapsed": false
   }
  },
  {
   "cell_type": "code",
   "execution_count": 18,
   "outputs": [
    {
     "data": {
      "text/plain": "{'accuracy': 0.9132947976878613, 'loss': 0.27019147928050485}"
     },
     "execution_count": 18,
     "metadata": {},
     "output_type": "execute_result"
    }
   ],
   "source": [
    "evaluator.run(test_dataloader_bi)\n",
    "evaluator.state.metrics"
   ],
   "metadata": {
    "collapsed": false
   }
  },
  {
   "cell_type": "code",
   "execution_count": 22,
   "outputs": [
    {
     "data": {
      "text/plain": "{'accuracy': 0.9219653179190751, 'loss': 0.23985857219365292}"
     },
     "execution_count": 22,
     "metadata": {},
     "output_type": "execute_result"
    }
   ],
   "source": [
    "evaluator.run(test_dataloader)\n",
    "evaluator.state.metrics"
   ],
   "metadata": {
    "collapsed": false
   }
  },
  {
   "cell_type": "code",
   "execution_count": 23,
   "outputs": [
    {
     "data": {
      "text/plain": "{'accuracy': 0.9219653179190751, 'loss': 0.2398585942439261}"
     },
     "execution_count": 23,
     "metadata": {},
     "output_type": "execute_result"
    }
   ],
   "source": [
    "evaluator.run(test_dataloader_bi)\n",
    "evaluator.state.metrics"
   ],
   "metadata": {
    "collapsed": false
   }
  },
  {
   "cell_type": "code",
   "execution_count": 26,
   "outputs": [
    {
     "data": {
      "text/plain": "{'accuracy': 0.9512195121951219, 'loss': 0.12108118941144246}"
     },
     "execution_count": 26,
     "metadata": {},
     "output_type": "execute_result"
    }
   ],
   "source": [
    "evaluator.run(test_dataloader_bi)\n",
    "evaluator.state.metrics"
   ],
   "metadata": {
    "collapsed": false
   }
  },
  {
   "cell_type": "code",
   "execution_count": null,
   "outputs": [],
   "source": [],
   "metadata": {
    "collapsed": false
   }
  }
 ],
 "metadata": {
  "kernelspec": {
   "display_name": "Python 3",
   "language": "python",
   "name": "python3"
  },
  "language_info": {
   "codemirror_mode": {
    "name": "ipython",
    "version": 2
   },
   "file_extension": ".py",
   "mimetype": "text/x-python",
   "name": "python",
   "nbconvert_exporter": "python",
   "pygments_lexer": "ipython2",
   "version": "2.7.6"
  }
 },
 "nbformat": 4,
 "nbformat_minor": 0
}
