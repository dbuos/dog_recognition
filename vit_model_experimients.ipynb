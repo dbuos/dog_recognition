{
 "cells": [
  {
   "cell_type": "code",
   "execution_count": 1,
   "metadata": {},
   "outputs": [],
   "source": [
    "%load_ext autoreload\n",
    "%autoreload 2\n",
    "\n",
    "\n",
    "import torch\n",
    "from torch import nn\n",
    "from torchvision.transforms import Resize, ToTensor, Normalize, Compose\n",
    "from torch.utils.data import DataLoader\n",
    "from torchvision.models import ViT_L_16_Weights, vit_l_16\n",
    "from torch.optim import Adam\n",
    "from torch.nn import BCEWithLogitsLoss\n",
    "from tqdm.auto import tqdm\n",
    "\n",
    "from drecg.data.utils import list_file_pairs, validate_file_pair, ImagePairDataset, preview_image_data\n",
    "from drecg.models.baseline import FeatureExtractorConv2d, Detector\n",
    "\n",
    "test_same, test_diff = list(list_file_pairs(part='same', root='/home/daniel/data_dogs/testing')), list(list_file_pairs(part='different', root='/home/daniel/data_dogs/testing'))\n",
    "train_same, train_diff = list(list_file_pairs(part='same', root='/home/daniel/data_dogs/training')), list(list_file_pairs(part='different', root='/home/daniel/data_dogs/training'))"
   ]
  },
  {
   "cell_type": "markdown",
   "metadata": {},
   "source": [
    "#### Vit Model Verification\n",
    "* Verify the model works with the pretrained weights for dog classification\n",
    "* Prepare a Batch of Images\n",
    "* Load the Pretrained Model (create function)\n",
    "* Execute prediction\n",
    "* Load the label descriptions\n",
    "* Display the results with images and labels"
   ]
  },
  {
   "cell_type": "code",
   "execution_count": 2,
   "metadata": {},
   "outputs": [],
   "source": [
    "from torchvision.transforms.functional import to_pil_image\n",
    "\n",
    "transform = ViT_L_16_Weights.IMAGENET1K_SWAG_E2E_V1.transforms()   \n",
    "images_to_use = train_same[20:23]\n",
    "dataset = ImagePairDataset(images_to_use, transforms=transform, label=1)\n",
    "device = torch.device('cuda')\n",
    "\n",
    "mean = (0.485, 0.456, 0.406)\n",
    "std = (0.229, 0.224, 0.225)\n",
    "denorm = Normalize(\n",
    "    mean=[-m / s for m, s in zip(mean, std)],\n",
    "    std=[1.0 / s for s in std],\n",
    ")\n",
    "\n",
    "def create_vit_feat_ext(remove_head=True):\n",
    "    vit_model = vit_l_16(weights=ViT_L_16_Weights.IMAGENET1K_SWAG_E2E_V1)\n",
    "    if remove_head:\n",
    "        vit_model.heads = nn.Identity()\n",
    "    return vit_model\n",
    "\n",
    "dataloader = DataLoader(dataset, batch_size=8, shuffle=False)\n",
    "dataloader_iter = iter(dataloader)\n",
    "batch = next(dataloader_iter)\n",
    "\n",
    "def tranformed_to_pil(transformed):\n",
    "    return to_pil_image((denorm(transformed)*255).to(torch.uint8))"
   ]
  },
  {
   "cell_type": "code",
   "execution_count": 3,
   "metadata": {},
   "outputs": [],
   "source": [
    "\n",
    "ds_same = ImagePairDataset(train_same, transforms=transform, label=1)\n",
    "ds_diff = ImagePairDataset(train_diff, transforms=transform, label=0)\n",
    "ds = ds_same + ds_diff\n",
    "dl_full = DataLoader(ds, batch_size=16, shuffle=True, num_workers=8)\n",
    "\n",
    "ds_test_same = ImagePairDataset(test_same, transforms=transform, label=1)\n",
    "ds_test_diff = ImagePairDataset(test_diff, transforms=transform, label=0)\n",
    "ds_test = ds_test_same + ds_test_diff\n",
    "dl_test = DataLoader(ds_test, batch_size=16, shuffle=False, num_workers=8)"
   ]
  },
  {
   "cell_type": "code",
   "execution_count": 5,
   "metadata": {},
   "outputs": [],
   "source": [
    "from drecg.models.baseline import LFullModel\n",
    "vit_extractor = create_vit_feat_ext(remove_head=True)\n",
    "f_extractor = lambda: vit_extractor\n",
    "\n",
    "model_det = Detector(feature_extractor=f_extractor, features_dim=1024, hidden_dim=256, train_extractor=False)\n",
    "model = LFullModel(model_det)"
   ]
  },
  {
   "cell_type": "code",
   "execution_count": 6,
   "metadata": {},
   "outputs": [
    {
     "name": "stderr",
     "output_type": "stream",
     "text": [
      "GPU available: True (cuda), used: True\n",
      "TPU available: False, using: 0 TPU cores\n",
      "IPU available: False, using: 0 IPUs\n",
      "HPU available: False, using: 0 HPUs\n",
      "LOCAL_RANK: 0 - CUDA_VISIBLE_DEVICES: [0]\n",
      "\n",
      "  | Name      | Type              | Params\n",
      "------------------------------------------------\n",
      "0 | model     | Detector          | 524 K \n",
      "1 | loss_fn   | BCEWithLogitsLoss | 0     \n",
      "2 | train_acc | Accuracy          | 0     \n",
      "3 | valid_acc | Accuracy          | 0     \n",
      "------------------------------------------------\n",
      "304 M     Trainable params\n",
      "0         Non-trainable params\n",
      "304 M     Total params\n",
      "1,218.697 Total estimated model params size (MB)\n"
     ]
    },
    {
     "data": {
      "application/vnd.jupyter.widget-view+json": {
       "model_id": "d247303f475e4e25b54797f909825d62",
       "version_major": 2,
       "version_minor": 0
      },
      "text/plain": [
       "Sanity Checking: 0it [00:00, ?it/s]"
      ]
     },
     "metadata": {},
     "output_type": "display_data"
    },
    {
     "data": {
      "application/vnd.jupyter.widget-view+json": {
       "model_id": "50b7632c86ae4d1ea4c391589c956dd6",
       "version_major": 2,
       "version_minor": 0
      },
      "text/plain": [
       "Training: 0it [00:00, ?it/s]"
      ]
     },
     "metadata": {},
     "output_type": "display_data"
    },
    {
     "data": {
      "application/vnd.jupyter.widget-view+json": {
       "model_id": "29df3d75173e46fa91d308be33ed6e3c",
       "version_major": 2,
       "version_minor": 0
      },
      "text/plain": [
       "Validation: 0it [00:00, ?it/s]"
      ]
     },
     "metadata": {},
     "output_type": "display_data"
    },
    {
     "data": {
      "application/vnd.jupyter.widget-view+json": {
       "model_id": "9b05b7b26ff94e67a9ddd85590094c0b",
       "version_major": 2,
       "version_minor": 0
      },
      "text/plain": [
       "Validation: 0it [00:00, ?it/s]"
      ]
     },
     "metadata": {},
     "output_type": "display_data"
    },
    {
     "data": {
      "application/vnd.jupyter.widget-view+json": {
       "model_id": "3c1cf1c7618a4204b13678428f62aa83",
       "version_major": 2,
       "version_minor": 0
      },
      "text/plain": [
       "Validation: 0it [00:00, ?it/s]"
      ]
     },
     "metadata": {},
     "output_type": "display_data"
    },
    {
     "data": {
      "application/vnd.jupyter.widget-view+json": {
       "model_id": "50f5ceede1974e108e8bfac651e40c88",
       "version_major": 2,
       "version_minor": 0
      },
      "text/plain": [
       "Validation: 0it [00:00, ?it/s]"
      ]
     },
     "metadata": {},
     "output_type": "display_data"
    },
    {
     "data": {
      "application/vnd.jupyter.widget-view+json": {
       "model_id": "02dd544b8aae465c8e6b61ba67583727",
       "version_major": 2,
       "version_minor": 0
      },
      "text/plain": [
       "Validation: 0it [00:00, ?it/s]"
      ]
     },
     "metadata": {},
     "output_type": "display_data"
    },
    {
     "data": {
      "application/vnd.jupyter.widget-view+json": {
       "model_id": "191794e5147243e7b7a5af4ddf3a1f4d",
       "version_major": 2,
       "version_minor": 0
      },
      "text/plain": [
       "Validation: 0it [00:00, ?it/s]"
      ]
     },
     "metadata": {},
     "output_type": "display_data"
    },
    {
     "data": {
      "application/vnd.jupyter.widget-view+json": {
       "model_id": "28347275fc8a4b9080f2f2036b6e8c50",
       "version_major": 2,
       "version_minor": 0
      },
      "text/plain": [
       "Validation: 0it [00:00, ?it/s]"
      ]
     },
     "metadata": {},
     "output_type": "display_data"
    },
    {
     "data": {
      "application/vnd.jupyter.widget-view+json": {
       "model_id": "8f878287830a4df3b7f2f114d05a6f0a",
       "version_major": 2,
       "version_minor": 0
      },
      "text/plain": [
       "Validation: 0it [00:00, ?it/s]"
      ]
     },
     "metadata": {},
     "output_type": "display_data"
    },
    {
     "data": {
      "application/vnd.jupyter.widget-view+json": {
       "model_id": "aaeb2def222d4230b98e5536f857bcac",
       "version_major": 2,
       "version_minor": 0
      },
      "text/plain": [
       "Validation: 0it [00:00, ?it/s]"
      ]
     },
     "metadata": {},
     "output_type": "display_data"
    },
    {
     "data": {
      "application/vnd.jupyter.widget-view+json": {
       "model_id": "977b4dc7313c4803acdf3fbb71b35b7d",
       "version_major": 2,
       "version_minor": 0
      },
      "text/plain": [
       "Validation: 0it [00:00, ?it/s]"
      ]
     },
     "metadata": {},
     "output_type": "display_data"
    },
    {
     "name": "stderr",
     "output_type": "stream",
     "text": [
      "`Trainer.fit` stopped: `max_epochs=10` reached.\n"
     ]
    }
   ],
   "source": [
    "from drecg.training.loops import train_full, train_lightning\n",
    "trainer = train_lightning(model, dl_full, dl_test, epochs=10)"
   ]
  },
  {
   "cell_type": "code",
   "execution_count": 16,
   "metadata": {},
   "outputs": [
    {
     "data": {
      "image/png": "[encoded data removed]",
      "text/plain": [
       "<Figure size 432x288 with 1 Axes>"
      ]
     },
     "metadata": {
      "needs_background": "light"
     },
     "output_type": "display_data"
    }
   ],
   "source": [
    "hist_loss, hist_acc = Out[5]\n",
    "#Plot the loss and accuracy\n",
    "import matplotlib.pyplot as plt\n",
    "plt.plot(hist_loss)\n",
    "plt.plot(hist_acc)\n",
    "plt.legend(['loss', 'acc'])\n",
    "plt.show()"
   ]
  },
  {
   "cell_type": "code",
   "execution_count": 7,
   "metadata": {},
   "outputs": [
    {
     "data": {
      "image/png": "[encoded data removed]",
      "text/plain": [
       "<Figure size 432x288 with 1 Axes>"
      ]
     },
     "metadata": {
      "needs_background": "light"
     },
     "output_type": "display_data"
    }
   ],
   "source": [
    "import matplotlib.pyplot as plt\n",
    "plt.plot(hist_loss)\n",
    "plt.plot(hist_acc)\n",
    "plt.legend(['loss', 'acc'])\n",
    "plt.show()"
   ]
  },
  {
   "cell_type": "code",
   "execution_count": 26,
   "metadata": {},
   "outputs": [],
   "source": [
    "\n",
    "test_dataset_same = ImagePairDataset(test_same, transforms=transform, label=1)\n",
    "test_dataset_diff = ImagePairDataset(test_diff, transforms=transform, label=0)\n",
    "\n",
    "test_dataloader_same = DataLoader(test_dataset_same, batch_size=8, shuffle=True, num_workers=4)\n",
    "test_dataloader_diff = DataLoader(test_dataset_diff, batch_size=8, shuffle=True, num_workers=4)\n",
    "test_batch_same_iter = iter(test_dataloader_same)\n",
    "test_batch_diff_iter = iter(test_dataloader_diff)"
   ]
  },
  {
   "cell_type": "code",
   "execution_count": 41,
   "metadata": {},
   "outputs": [],
   "source": [
    "test_dataset = test_dataset_same + test_dataset_diff\n",
    "test_dataloader = DataLoader(test_dataset, batch_size=32, shuffle=False, num_workers=4)"
   ]
  },
  {
   "cell_type": "code",
   "execution_count": 52,
   "metadata": {},
   "outputs": [
    {
     "data": {
      "text/plain": [
       "398"
      ]
     },
     "execution_count": 52,
     "metadata": {},
     "output_type": "execute_result"
    }
   ],
   "source": [
    "len(test_dataset)"
   ]
  },
  {
   "cell_type": "code",
   "execution_count": 29,
   "metadata": {},
   "outputs": [],
   "source": [
    "\n",
    "\n",
    "def try_model(model):\n",
    "    device = torch.device('cuda')\n",
    "    model.to(device)\n",
    "    test_batch_same = next(test_batch_same_iter)\n",
    "    test_batch_diff = next(test_batch_diff_iter)\n",
    "    batch_img_a = test_batch_same[0][1].to(device)\n",
    "    batch_img_b = test_batch_same[0][0].to(device)\n",
    "\n",
    "    batch_diff_img_a = test_batch_diff[0][1].to(device)\n",
    "    batch_diff_img_b = test_batch_diff[0][0].to(device)\n",
    "\n",
    "    model.eval()\n",
    "    with torch.no_grad():\n",
    "        y_same = model((batch_img_a, batch_img_b))\n",
    "        y_diff = model((batch_diff_img_a, batch_diff_img_b))\n",
    "\n",
    "    return torch.round(torch.sigmoid(y_same)), torch.round(torch.sigmoid(y_diff))"
   ]
  },
  {
   "cell_type": "code",
   "execution_count": 38,
   "metadata": {},
   "outputs": [
    {
     "data": {
      "text/plain": [
       "(tensor([[0.],\n",
       "         [1.],\n",
       "         [1.],\n",
       "         [1.],\n",
       "         [0.],\n",
       "         [1.],\n",
       "         [1.],\n",
       "         [1.]], device='cuda:0'),\n",
       " tensor([[0.],\n",
       "         [0.],\n",
       "         [1.],\n",
       "         [0.],\n",
       "         [0.],\n",
       "         [0.],\n",
       "         [0.],\n",
       "         [0.]], device='cuda:0'))"
      ]
     },
     "execution_count": 38,
     "metadata": {},
     "output_type": "execute_result"
    }
   ],
   "source": [
    "try_model(model_v1)"
   ]
  },
  {
   "cell_type": "code",
   "execution_count": 50,
   "metadata": {},
   "outputs": [
    {
     "data": {
      "application/vnd.jupyter.widget-view+json": {
       "model_id": "06e80015b70c41f2a43ed77784190e26",
       "version_major": 2,
       "version_minor": 0
      },
      "text/plain": [
       "  0%|          | 0/13 [00:00<?, ?it/s]"
      ]
     },
     "metadata": {},
     "output_type": "display_data"
    }
   ],
   "source": [
    "from tqdm.auto import tqdm\n",
    "\n",
    "bar = tqdm(range(len(test_dataloader)))\n",
    "\n",
    "model.to(device)\n",
    "model.eval()\n",
    "correct = 0\n",
    "count = 0\n",
    "for (img_a, img_b), label in test_dataloader:\n",
    "    img_a = img_a.to(device)\n",
    "    img_b = img_b.to(device)\n",
    "    label = label.to(device)\n",
    "    count += label.size(0)\n",
    "    y_logits = model((img_a, img_b))\n",
    "    y = torch.round(torch.sigmoid(y_logits)).reshape(-1).to(torch.int)\n",
    "    label = label.to(torch.int)\n",
    "    correct += (y == label).sum().item()\n",
    "    bar.update(1)"
   ]
  },
  {
   "cell_type": "code",
   "execution_count": 54,
   "metadata": {},
   "outputs": [
    {
     "data": {
      "text/plain": [
       "0.7638190954773869"
      ]
     },
     "execution_count": 54,
     "metadata": {},
     "output_type": "execute_result"
    }
   ],
   "source": [
    "correct/count"
   ]
  },
  {
   "cell_type": "code",
   "execution_count": 39,
   "metadata": {},
   "outputs": [],
   "source": [
    "torch.save(model_v1, 'saved_models/model_v1.pt')"
   ]
  },
  {
   "cell_type": "code",
   "execution_count": 2,
   "metadata": {},
   "outputs": [],
   "source": [
    "import torch\n",
    "save_model = torch.load('saved_models/model_v1_073.pt')"
   ]
  },
  {
   "cell_type": "code",
   "execution_count": 6,
   "metadata": {},
   "outputs": [],
   "source": [
    "label_desc = ViT_L_16_Weights.IMAGENET1K_SWAG_E2E_V1.meta['categories']"
   ]
  },
  {
   "cell_type": "code",
   "execution_count": 24,
   "metadata": {},
   "outputs": [],
   "source": [
    "vit_model.train()\n",
    "# with torch.no_grad():\n",
    "out = vit_model(img_batch.to(device))\n",
    "# out2 = vit_model(img_batch.to(device))"
   ]
  },
  {
   "cell_type": "code",
   "execution_count": 5,
   "metadata": {},
   "outputs": [],
   "source": [
    "# del out, out2\n",
    "# del model\n",
    "torch.cuda.empty_cache()"
   ]
  },
  {
   "cell_type": "code",
   "execution_count": 25,
   "metadata": {},
   "outputs": [
    {
     "data": {
      "text/plain": [
       "['toy poodle', 'Blenheim spaniel', 'toy poodle']"
      ]
     },
     "execution_count": 25,
     "metadata": {},
     "output_type": "execute_result"
    }
   ],
   "source": [
    "preds = torch.argmax(out, dim=1)\n",
    "#convert to labels\n",
    "[label_desc[pred] for pred in preds]"
   ]
  },
  {
   "cell_type": "code",
   "execution_count": null,
   "metadata": {},
   "outputs": [],
   "source": []
  }
 ],
 "metadata": {
  "kernelspec": {
   "display_name": "Python 3.9.13 ('recg')",
   "language": "python",
   "name": "python3"
  },
  "language_info": {
   "codemirror_mode": {
    "name": "ipython",
    "version": 3
   },
   "file_extension": ".py",
   "mimetype": "text/x-python",
   "name": "python",
   "nbconvert_exporter": "python",
   "pygments_lexer": "ipython3",
   "version": "3.9.13"
  },
  "orig_nbformat": 4,
  "vscode": {
   "interpreter": {
    "hash": "b793216b3dd7b47ffae26511feccbf1cb868298f39c032fb85acd5df274c591b"
   }
  }
 },
 "nbformat": 4,
 "nbformat_minor": 2
}
