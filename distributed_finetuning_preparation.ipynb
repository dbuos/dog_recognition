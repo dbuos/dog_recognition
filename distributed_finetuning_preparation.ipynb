{
 "cells": [
  {
   "cell_type": "markdown",
   "metadata": {},
   "source": [
    "#### First get the candidate model parts (Head and Feature Extractor)"
   ]
  },
  {
   "cell_type": "code",
   "execution_count": 5,
   "metadata": {
    "ExecuteTime": {
     "end_time": "2023-04-16T22:54:41.997410Z",
     "start_time": "2023-04-16T22:54:41.951562Z"
    }
   },
   "outputs": [],
   "source": [
    "#Only model weights in GPU: 7.9 GB\n",
    "#Batch of 4 images pairs forward pass: +13.5GB\n",
    "#Batch of 4 images pairs backward pass: +5GB\n",
    "#Fordward pass time GPU batch 4 pairs: 300 ms\n",
    "#forward + Backward  pass time CPU batch 4 pairs: 13 segs + 40 segs"
   ]
  },
  {
   "cell_type": "code",
   "execution_count": 1,
   "metadata": {
    "ExecuteTime": {
     "end_time": "2023-04-25T19:51:14.315115Z",
     "start_time": "2023-04-25T19:50:59.950380Z"
    }
   },
   "outputs": [
    {
     "name": "stderr",
     "output_type": "stream",
     "text": [
      "config.json not found in HuggingFace Hub.\n"
     ]
    }
   ],
   "source": [
    "import os\n",
    "import torch\n",
    "import torch.nn as nn\n",
    "import time\n",
    "from torch.distributed.rpc import init_rpc\n",
    "from drecg.feature_extraction.distributed import define_model_for_tune\n",
    "\n",
    "\n",
    "os.environ['MASTER_ADDR'] = 'localhost'\n",
    "os.environ['MASTER_PORT'] = '29500'\n",
    "init_rpc('worker', rank=0, world_size=1)\n",
    "\n",
    "\n",
    "devices_list = [torch.device(\"cuda:0\"), torch.device(\"cuda:1\"),torch.device(\"cuda:2\"),torch.device(\"cuda:3\")]\n",
    "model_pipe = define_model_for_tune(devices_list, microbatch_num=2)\n",
    "\n",
    "loss_fn = nn.BCEWithLogitsLoss()\n",
    "y_true = torch.ones(16, 1, dtype=torch.float32).to(devices_list[-1])\n",
    "\n",
    "model_pipe.train()\n",
    "adam_w = torch.optim.AdamW(model_pipe.parameters(), lr=1e-3)\n",
    "\n"
   ]
  },
  {
   "cell_type": "code",
   "execution_count": 3,
   "metadata": {},
   "outputs": [
    {
     "name": "stdout",
     "output_type": "stream",
     "text": [
      "iter: 0, loss: 0.04550361633300781, time: 2.6270127296447754 segs\n",
      "iter: 1, loss: 0.034522946923971176, time: 2.9066762924194336 segs\n",
      "iter: 2, loss: 0.02579524740576744, time: 2.9080464839935303 segs\n",
      "iter: 3, loss: 0.02561810426414013, time: 2.916492223739624 segs\n",
      "iter: 4, loss: 0.018328363075852394, time: 2.922459363937378 segs\n",
      "iter: 5, loss: 0.008190635591745377, time: 2.9422311782836914 segs\n",
      "iter: 6, loss: 0.01341742929071188, time: 2.919269323348999 segs\n",
      "iter: 7, loss: 0.012847553007304668, time: 2.926701068878174 segs\n",
      "iter: 8, loss: 0.0108527522534132, time: 2.926661491394043 segs\n",
      "iter: 9, loss: 0.009601861238479614, time: 2.9174177646636963 segs\n"
     ]
    }
   ],
   "source": [
    "model_pipe.train()\n",
    "for i in range(10):\n",
    "    init_time = time.time()\n",
    "    dummy_img_a = torch.rand(16, 3, 224, 224).to(devices_list[0])\n",
    "    dummy_img_b = torch.rand(16, 3, 224, 224).to(devices_list[0])\n",
    "    adam_w.zero_grad()\n",
    "    out = model_pipe((dummy_img_a, dummy_img_b))\n",
    "    #out = out.local_value()\n",
    "    loss = loss_fn(out, y_true)\n",
    "    loss.backward()\n",
    "    adam_w.step()\n",
    "    total_time_segs = time.time() - init_time\n",
    "    print(\"iter: {}, loss: {}, time: {} segs\".format(i, loss.item(), total_time_segs))"
   ]
  },
  {
   "cell_type": "code",
   "execution_count": null,
   "metadata": {},
   "outputs": [],
   "source": []
  }
 ],
 "metadata": {
  "kernelspec": {
   "display_name": "Python 3 (ipykernel)",
   "language": "python",
   "name": "python3"
  },
  "language_info": {
   "codemirror_mode": {
    "name": "ipython",
    "version": 3
   },
   "file_extension": ".py",
   "mimetype": "text/x-python",
   "name": "python",
   "nbconvert_exporter": "python",
   "pygments_lexer": "ipython3",
   "version": "3.10.10"
  },
  "vscode": {
   "interpreter": {
    "hash": "bd0d7e94ccb776d367f1b5708497d31240ae7624b420edef6e7d497eefa657d8"
   }
  }
 },
 "nbformat": 4,
 "nbformat_minor": 1
}
