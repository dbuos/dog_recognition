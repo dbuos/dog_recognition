{
 "cells": [
  {
   "cell_type": "markdown",
   "metadata": {
    "collapsed": false
   },
   "source": [
    "#### First get the candidate model parts (Head and Feature Extractor)"
   ]
  },
  {
   "cell_type": "code",
   "execution_count": 5,
   "outputs": [],
   "source": [
    "#Only model weights in GPU: 7.9 GB\n",
    "#Batch of 4 images pairs forward pass: +13.5GB\n",
    "#Batch of 4 images pairs backward pass: +5GB\n",
    "#Fordward pass time GPU batch 4 pairs: 300 ms\n",
    "#forward + Backward  pass time CPU batch 4 pairs: 13 segs + 40 segs"
   ],
   "metadata": {
    "collapsed": false,
    "ExecuteTime": {
     "start_time": "2023-04-16T22:54:41.951562Z",
     "end_time": "2023-04-16T22:54:41.997410Z"
    }
   }
  },
  {
   "cell_type": "code",
   "execution_count": 1,
   "outputs": [
    {
     "name": "stderr",
     "output_type": "stream",
     "text": [
      "config.json not found in HuggingFace Hub.\n"
     ]
    }
   ],
   "source": [
    "import os\n",
    "import torch\n",
    "import torch.nn as nn\n",
    "import time\n",
    "from torch.distributed.rpc import init_rpc\n",
    "from drecg.feature_extraction.distributed import define_model_for_tune\n",
    "\n",
    "\n",
    "os.environ['MASTER_ADDR'] = 'localhost'\n",
    "os.environ['MASTER_PORT'] = '29500'\n",
    "init_rpc('worker', rank=0, world_size=1)\n",
    "\n",
    "\n",
    "devices_list = [torch.device(\"cuda:0\"), torch.device(\"cpu\")]\n",
    "model_pipe = define_model_for_tune(devices_list, microbatch_num=2)\n",
    "\n",
    "loss_fn = nn.BCEWithLogitsLoss()\n",
    "y_true = torch.ones(32, 1, dtype=torch.float32).to(devices_list[-1])\n",
    "\n",
    "model_pipe.train()\n",
    "adam_w = torch.optim.AdamW(model_pipe.parameters(), lr=1e-3)\n",
    "\n"
   ],
   "metadata": {
    "collapsed": false,
    "ExecuteTime": {
     "start_time": "2023-04-25T19:50:59.950380Z",
     "end_time": "2023-04-25T19:51:14.315115Z"
    }
   }
  },
  {
   "cell_type": "code",
   "execution_count": null,
   "outputs": [],
   "source": [
    "for i in range(2):\n",
    "    init_time = time.time()\n",
    "    dummy_img_a = torch.rand(32, 3, 224, 224).to(devices_list[0])\n",
    "    dummy_img_b = torch.rand(32, 3, 224, 224).to(devices_list[0])\n",
    "    adam_w.zero_grad()\n",
    "    out = model_pipe((dummy_img_a, dummy_img_b))\n",
    "    out = out.local_value()\n",
    "    loss = loss_fn(out, y_true)\n",
    "    loss.backward()\n",
    "    adam_w.step()\n",
    "    total_time_segs = time.time() - init_time\n",
    "    print(\"iter: {}, loss: {}, time: {} segs\".format(i, loss.item(), total_time_segs))"
   ],
   "metadata": {
    "collapsed": false
   }
  },
  {
   "cell_type": "code",
   "execution_count": null,
   "outputs": [],
   "source": [],
   "metadata": {
    "collapsed": false
   }
  }
 ],
 "metadata": {
  "kernelspec": {
   "display_name": "dogrec",
   "language": "python",
   "name": "python3"
  },
  "language_info": {
   "codemirror_mode": {
    "name": "ipython",
    "version": 3
   },
   "file_extension": ".py",
   "mimetype": "text/x-python",
   "name": "python",
   "nbconvert_exporter": "python",
   "pygments_lexer": "ipython3",
   "version": "3.10.8"
  },
  "vscode": {
   "interpreter": {
    "hash": "bd0d7e94ccb776d367f1b5708497d31240ae7624b420edef6e7d497eefa657d8"
   }
  }
 },
 "nbformat": 4,
 "nbformat_minor": 0
}
