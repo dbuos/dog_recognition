{
 "cells": [
  {
   "cell_type": "markdown",
   "metadata": {},
   "source": [
    "#### Feature extraction experiments\n",
    "This experiments are intended to test the performance of the model when using the feature extraction technique. The idea is to use the pre-trained model as a feature extractor and then train a new model using the extracted features. \n",
    "\n",
    "The features area extracted ahead of time and saved for performance reasons. The caveat is that we can not use the data augmentation techniques when extracting the features."
   ]
  },
  {
   "cell_type": "markdown",
   "metadata": {},
   "source": [
    "#### Vit Train on Features extracted\n",
    "* Create a new Dataset with the extracted features\n",
    "* Create a new model\n",
    "* Train the model"
   ]
  },
  {
   "cell_type": "code",
   "execution_count": 1,
   "metadata": {},
   "outputs": [],
   "source": [
    "from drecg.data.utils import FeaturesDataset\n",
    "train_dataset = FeaturesDataset('features_ext_vit/train_features.pt')\n",
    "train_dataset_augmented = FeaturesDataset('features_ext_vit/train_features_augmented.pt')\n",
    "validation_dataset = FeaturesDataset('features_ext_vit/validation_features.pt')\n",
    "test_dataset = FeaturesDataset('features_ext_vit/test_features.pt')\n"
   ]
  },
  {
   "cell_type": "code",
   "execution_count": 3,
   "metadata": {},
   "outputs": [],
   "source": [
    "from torch.utils.data import DataLoader\n",
    "train_feat_dataloader = DataLoader(train_dataset_augmented, batch_size=32, shuffle=True, num_workers=4)\n",
    "test_feat_dataloader = DataLoader(test_dataset, batch_size=32, shuffle=False, num_workers=4)\n",
    "validation_dataloader = DataLoader(validation_dataset, batch_size=32, shuffle=False, num_workers=4)"
   ]
  },
  {
   "cell_type": "code",
   "execution_count": 4,
   "metadata": {},
   "outputs": [],
   "source": [
    "from drecg.models.feat_extraction import DiffFeatureDetectorParam, LFullModel\n",
    "model = DiffFeatureDetectorParam(num_hidden=1,\n",
    "                                 hidden_units=128,\n",
    "                                 features_dropout=0.4,\n",
    "                                 hidden_dropout=0.3)\n",
    "model = LFullModel(model, optimizer=\"AdamW\", lr=0.0001)"
   ]
  },
  {
   "cell_type": "code",
   "execution_count": 5,
   "metadata": {},
   "outputs": [],
   "source": [
    "import mlflow\n",
    "exp_name = 'Feature Extraction VIT + Dense Difference'\n",
    "mlflow.set_tracking_uri(\"http://127.0.0.1:5000\")\n",
    "# experiment_id = mlflow.create_experiment(\n",
    "#     exp_name,\n",
    "#     tags={\"version\": \"v1\", \"type\": \"vit_features_concat_dense\"},\n",
    "# )\n",
    "\n",
    "experiment = mlflow.set_experiment(exp_name)"
   ]
  },
  {
   "cell_type": "code",
   "execution_count": null,
   "metadata": {},
   "outputs": [],
   "source": [
    "from drecg.training.loops import train_lightning\n",
    "import torch\n",
    "from mlflow import log_param, log_artifacts\n",
    "log_param(\"num_layers\", 1)\n",
    "log_param(\"num_neurons\", 128)\n",
    "log_param(\"combine_method\", \"difference\")\n",
    "log_param(\"optimizer\", \"AdamW\")\n",
    "log_param(\"lr\", 0.0001)\n",
    "log_param(\"batch_size\", 32)\n",
    "log_param(\"num_epochs\", 55)\n",
    "log_param(\"augmentation_amount\", \"200%\")\n",
    "trainer = train_lightning(model, train_feat_dataloader, validation_dataloader, test_feat_dataloader, epochs=55)\n",
    "\n",
    "torch.save(model, 'saved_models/candidate2/model.pt')\n",
    "log_artifacts('saved_models/candidate2')"
   ]
  },
  {
   "cell_type": "code",
   "execution_count": 7,
   "metadata": {},
   "outputs": [],
   "source": [
    "\n",
    "torch.save(model, 'saved_models/candidate2/model.pt')\n",
    "log_artifacts('saved_models/candidate2')"
   ]
  },
  {
   "cell_type": "code",
   "execution_count": 8,
   "metadata": {
    "collapsed": false
   },
   "outputs": [],
   "source": [
    "m = torch.load('saved_models/candidate2/model.pt')"
   ]
  },
  {
   "cell_type": "code",
   "execution_count": 9,
   "metadata": {},
   "outputs": [
    {
     "data": {
      "text/plain": [
       "LFullModel(\n",
       "  (model): DiffFeatureDetectorParam(\n",
       "    (cls_layer): Sequential(\n",
       "      (features_dropout): Dropout(p=0.4, inplace=False)\n",
       "      (linear_0): Linear(in_features=1024, out_features=128, bias=True)\n",
       "      (tanh_0): Tanh()\n",
       "      (hidden_dropout_0): Dropout(p=0.3, inplace=False)\n",
       "      (linear_out): Linear(in_features=128, out_features=1, bias=True)\n",
       "    )\n",
       "  )\n",
       "  (loss_fn): BCEWithLogitsLoss()\n",
       "  (train_acc): Accuracy()\n",
       "  (valid_acc): Accuracy()\n",
       "  (test_acc): Accuracy()\n",
       ")"
      ]
     },
     "execution_count": 9,
     "metadata": {},
     "output_type": "execute_result"
    }
   ],
   "source": [
    "m"
   ]
  },
  {
   "cell_type": "code",
   "execution_count": 10,
   "metadata": {},
   "outputs": [],
   "source": [
    "m2 = torch.load('candidate_model0.pt')"
   ]
  },
  {
   "cell_type": "code",
   "execution_count": 11,
   "metadata": {},
   "outputs": [
    {
     "data": {
      "text/plain": [
       "LFullModel(\n",
       "  (model): DiffFeatureDetector(\n",
       "    (cls_layer): Sequential(\n",
       "      (0): Dropout(p=0.35, inplace=False)\n",
       "      (1): Linear(in_features=1024, out_features=128, bias=True)\n",
       "      (2): ReLU()\n",
       "      (3): Dropout(p=0.5, inplace=False)\n",
       "      (4): Linear(in_features=128, out_features=1, bias=True)\n",
       "    )\n",
       "  )\n",
       "  (loss_fn): BCEWithLogitsLoss()\n",
       "  (train_acc): Accuracy()\n",
       "  (valid_acc): Accuracy()\n",
       "  (test_acc): Accuracy()\n",
       ")"
      ]
     },
     "execution_count": 11,
     "metadata": {},
     "output_type": "execute_result"
    }
   ],
   "source": [
    "m2"
   ]
  },
  {
   "cell_type": "code",
   "execution_count": 12,
   "metadata": {},
   "outputs": [
    {
     "name": "stderr",
     "output_type": "stream",
     "text": [
      "/home/daniel/mambaforge/envs/recg/lib/python3.9/site-packages/pytorch_lightning/trainer/connectors/accelerator_connector.py:445: LightningDeprecationWarning: Setting `Trainer(gpus=1)` is deprecated in v1.7 and will be removed in v2.0. Please use `Trainer(accelerator='gpu', devices=1)` instead.\n",
      "  rank_zero_deprecation(\n",
      "/home/daniel/mambaforge/envs/recg/lib/python3.9/site-packages/pytorch_lightning/loops/utilities.py:93: PossibleUserWarning: `max_epochs` was not set. Setting it to 1000 epochs. To train without an epoch limit, set `max_epochs=-1`.\n",
      "  rank_zero_warn(\n",
      "GPU available: True (cuda), used: True\n",
      "TPU available: False, using: 0 TPU cores\n",
      "IPU available: False, using: 0 IPUs\n",
      "HPU available: False, using: 0 HPUs\n"
     ]
    }
   ],
   "source": [
    "\n",
    "import pytorch_lightning as pl\n",
    "trainer = pl.Trainer(accelerator='gpu', gpus=1)"
   ]
  },
  {
   "cell_type": "code",
   "execution_count": 15,
   "metadata": {},
   "outputs": [
    {
     "name": "stderr",
     "output_type": "stream",
     "text": [
      "LOCAL_RANK: 0 - CUDA_VISIBLE_DEVICES: [0]\n"
     ]
    },
    {
     "data": {
      "application/vnd.jupyter.widget-view+json": {
       "model_id": "7e38198f5f074956856cc7ca576c4e8d",
       "version_major": 2,
       "version_minor": 0
      },
      "text/plain": [
       "Testing: 0it [00:00, ?it/s]"
      ]
     },
     "metadata": {},
     "output_type": "display_data"
    },
    {
     "name": "stdout",
     "output_type": "stream",
     "text": [
      "────────────────────────────────────────────────────────────────────────────────────────────────────────────────────────\n",
      "       Test metric             DataLoader 0\n",
      "────────────────────────────────────────────────────────────────────────────────────────────────────────────────────────\n",
      "      accuracy:test         0.8930636048316956\n",
      "        loss:test            0.332894891500473\n",
      "          step                      1.0\n",
      "────────────────────────────────────────────────────────────────────────────────────────────────────────────────────────\n"
     ]
    },
    {
     "data": {
      "text/plain": [
       "[{'loss': {'test': tensor(0.3329, device='cuda:0')},\n",
       "  'accuracy': {'test': tensor(0.8931, device='cuda:0')},\n",
       "  'step': 1.0}]"
      ]
     },
     "execution_count": 15,
     "metadata": {},
     "output_type": "execute_result"
    }
   ],
   "source": [
    "trainer.test(model=m2, dataloaders=test_feat_dataloader)"
   ]
  },
  {
   "cell_type": "code",
   "execution_count": 16,
   "metadata": {},
   "outputs": [],
   "source": [
    "m3 = torch.load('saved_models/current/model.pt')"
   ]
  },
  {
   "cell_type": "code",
   "execution_count": 19,
   "metadata": {},
   "outputs": [
    {
     "name": "stderr",
     "output_type": "stream",
     "text": [
      "LOCAL_RANK: 0 - CUDA_VISIBLE_DEVICES: [0]\n"
     ]
    },
    {
     "data": {
      "application/vnd.jupyter.widget-view+json": {
       "model_id": "57c0f5450daa427ca0c6e9afc196c4c0",
       "version_major": 2,
       "version_minor": 0
      },
      "text/plain": [
       "Testing: 0it [00:00, ?it/s]"
      ]
     },
     "metadata": {},
     "output_type": "display_data"
    },
    {
     "name": "stdout",
     "output_type": "stream",
     "text": [
      "────────────────────────────────────────────────────────────────────────────────────────────────────────────────────────\n",
      "       Test metric             DataLoader 0\n",
      "────────────────────────────────────────────────────────────────────────────────────────────────────────────────────────\n",
      "      accuracy:test         0.8901734352111816\n",
      "        loss:test           0.35187745094299316\n",
      "          step                      1.0\n",
      "────────────────────────────────────────────────────────────────────────────────────────────────────────────────────────\n"
     ]
    },
    {
     "data": {
      "text/plain": [
       "[{'loss': {'test': tensor(0.3519, device='cuda:0')},\n",
       "  'accuracy': {'test': tensor(0.8902, device='cuda:0')},\n",
       "  'step': 1.0}]"
      ]
     },
     "execution_count": 19,
     "metadata": {},
     "output_type": "execute_result"
    }
   ],
   "source": [
    "trainer.test(model=m3, dataloaders=test_feat_dataloader)"
   ]
  },
  {
   "cell_type": "code",
   "execution_count": null,
   "metadata": {},
   "outputs": [],
   "source": []
  }
 ],
 "metadata": {
  "kernelspec": {
   "display_name": "Python 3.9.13 ('recg')",
   "language": "python",
   "name": "python3"
  },
  "language_info": {
   "codemirror_mode": {
    "name": "ipython",
    "version": 3
   },
   "file_extension": ".py",
   "mimetype": "text/x-python",
   "name": "python",
   "nbconvert_exporter": "python",
   "pygments_lexer": "ipython3",
   "version": "3.9.13"
  },
  "orig_nbformat": 4,
  "vscode": {
   "interpreter": {
    "hash": "b793216b3dd7b47ffae26511feccbf1cb868298f39c032fb85acd5df274c591b"
   }
  }
 },
 "nbformat": 4,
 "nbformat_minor": 2
}
