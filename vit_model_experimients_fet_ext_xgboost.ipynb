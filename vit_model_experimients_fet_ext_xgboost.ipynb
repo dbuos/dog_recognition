{
 "cells": [
  {
   "cell_type": "markdown",
   "metadata": {},
   "source": [
    "#### Vit Train on Features extracted\n",
    "* Create a new Dataset with the extracted features\n",
    "* Create a new model\n",
    "* Train the model"
   ]
  },
  {
   "cell_type": "code",
   "execution_count": 1,
   "metadata": {},
   "outputs": [],
   "source": [
    "from drecg.data.utils import FeaturesDataset\n",
    "train_dataset = FeaturesDataset('features_ext_vit/train_features.pt')\n",
    "train_dataset_augmented = FeaturesDataset('features_ext_vit/train_features_augmented.pt')\n",
    "validation_dataset = FeaturesDataset('features_ext_vit/validation_features.pt')\n",
    "test_dataset = FeaturesDataset('features_ext_vit/test_features.pt')\n"
   ]
  },
  {
   "cell_type": "code",
   "execution_count": 2,
   "metadata": {},
   "outputs": [],
   "source": [
    "import torch\n",
    "import numpy as np\n",
    "x_train = (train_dataset_augmented.features_a - train_dataset_augmented.features_b).numpy()\n",
    "y_train = train_dataset_augmented.labels.numpy()\n",
    "\n",
    "x_val = (validation_dataset.features_a - validation_dataset.features_b).numpy()\n",
    "y_val = validation_dataset.labels.numpy()\n",
    "\n",
    "x_test = (test_dataset.features_a - test_dataset.features_b).numpy()\n",
    "y_test = test_dataset.labels.numpy()"
   ]
  },
  {
   "cell_type": "code",
   "execution_count": 3,
   "metadata": {},
   "outputs": [
    {
     "data": {
      "text/plain": [
       "((346, 1024), (11658, 1024), (164, 1024))"
      ]
     },
     "execution_count": 3,
     "metadata": {},
     "output_type": "execute_result"
    }
   ],
   "source": [
    "x_test.shape, x_train.shape, x_val.shape"
   ]
  },
  {
   "cell_type": "code",
   "execution_count": 4,
   "metadata": {},
   "outputs": [],
   "source": [
    "import xgboost as xgb\n",
    "dtrain = xgb.DMatrix(x_train, label=y_train)\n",
    "dval = xgb.DMatrix(x_val, label=y_val)\n",
    "dtest = xgb.DMatrix(x_test, label=y_test)"
   ]
  },
  {
   "cell_type": "code",
   "execution_count": 14,
   "metadata": {},
   "outputs": [
    {
     "name": "stdout",
     "output_type": "stream",
     "text": [
      "[0]\ttrain-auc:0.91402\ttrain-error:0.12464\teval-auc:0.78049\teval-error:0.25000\n",
      "[1]\ttrain-auc:0.95607\ttrain-error:0.08355\teval-auc:0.81715\teval-error:0.26829\n",
      "[2]\ttrain-auc:0.97025\ttrain-error:0.07017\teval-auc:0.84890\teval-error:0.21951\n",
      "[3]\ttrain-auc:0.97510\ttrain-error:0.05764\teval-auc:0.85173\teval-error:0.20732\n",
      "[4]\ttrain-auc:0.97931\ttrain-error:0.05395\teval-auc:0.85990\teval-error:0.18293\n",
      "[5]\ttrain-auc:0.98231\ttrain-error:0.04735\teval-auc:0.86704\teval-error:0.17683\n",
      "[6]\ttrain-auc:0.98507\ttrain-error:0.04649\teval-auc:0.87203\teval-error:0.17683\n",
      "[7]\ttrain-auc:0.98668\ttrain-error:0.04023\teval-auc:0.88407\teval-error:0.16463\n",
      "[8]\ttrain-auc:0.98857\ttrain-error:0.03920\teval-auc:0.88340\teval-error:0.16463\n",
      "[9]\ttrain-auc:0.98966\ttrain-error:0.03688\teval-auc:0.88548\teval-error:0.17073\n",
      "[10]\ttrain-auc:0.99131\ttrain-error:0.03440\teval-auc:0.89188\teval-error:0.15854\n",
      "[11]\ttrain-auc:0.99265\ttrain-error:0.03122\teval-auc:0.88995\teval-error:0.14634\n",
      "[12]\ttrain-auc:0.99451\ttrain-error:0.02899\teval-auc:0.89099\teval-error:0.15244\n",
      "[13]\ttrain-auc:0.99482\ttrain-error:0.02788\teval-auc:0.89352\teval-error:0.17073\n",
      "[14]\ttrain-auc:0.99651\ttrain-error:0.02505\teval-auc:0.89649\teval-error:0.15244\n",
      "[15]\ttrain-auc:0.99737\ttrain-error:0.02273\teval-auc:0.89590\teval-error:0.15854\n",
      "[16]\ttrain-auc:0.99817\ttrain-error:0.02059\teval-auc:0.89946\teval-error:0.14634\n",
      "[17]\ttrain-auc:0.99820\ttrain-error:0.02016\teval-auc:0.89961\teval-error:0.16463\n",
      "[18]\ttrain-auc:0.99883\ttrain-error:0.01921\teval-auc:0.90080\teval-error:0.14634\n",
      "[19]\ttrain-auc:0.99923\ttrain-error:0.01698\teval-auc:0.90184\teval-error:0.15854\n",
      "[20]\ttrain-auc:0.99959\ttrain-error:0.01544\teval-auc:0.90348\teval-error:0.15854\n",
      "[21]\ttrain-auc:0.99976\ttrain-error:0.01372\teval-auc:0.90526\teval-error:0.14024\n",
      "[22]\ttrain-auc:0.99987\ttrain-error:0.01184\teval-auc:0.90184\teval-error:0.14024\n",
      "[23]\ttrain-auc:0.99992\ttrain-error:0.01081\teval-auc:0.90541\teval-error:0.14024\n",
      "[24]\ttrain-auc:0.99995\ttrain-error:0.01012\teval-auc:0.90854\teval-error:0.14634\n",
      "[25]\ttrain-auc:0.99997\ttrain-error:0.00789\teval-auc:0.91017\teval-error:0.14634\n",
      "[26]\ttrain-auc:0.99998\ttrain-error:0.00678\teval-auc:0.90943\teval-error:0.14634\n",
      "[27]\ttrain-auc:0.99999\ttrain-error:0.00549\teval-auc:0.91062\teval-error:0.13415\n",
      "[28]\ttrain-auc:1.00000\ttrain-error:0.00463\teval-auc:0.91166\teval-error:0.12805\n",
      "[29]\ttrain-auc:1.00000\ttrain-error:0.00412\teval-auc:0.91255\teval-error:0.12195\n",
      "[30]\ttrain-auc:1.00000\ttrain-error:0.00309\teval-auc:0.91106\teval-error:0.13415\n",
      "[31]\ttrain-auc:1.00000\ttrain-error:0.00292\teval-auc:0.91077\teval-error:0.12195\n",
      "[32]\ttrain-auc:1.00000\ttrain-error:0.00214\teval-auc:0.91211\teval-error:0.12805\n",
      "[33]\ttrain-auc:1.00000\ttrain-error:0.00163\teval-auc:0.91225\teval-error:0.13415\n",
      "[34]\ttrain-auc:1.00000\ttrain-error:0.00112\teval-auc:0.91255\teval-error:0.12195\n",
      "[35]\ttrain-auc:1.00000\ttrain-error:0.00069\teval-auc:0.91181\teval-error:0.12805\n",
      "[36]\ttrain-auc:1.00000\ttrain-error:0.00051\teval-auc:0.91255\teval-error:0.12195\n",
      "[37]\ttrain-auc:1.00000\ttrain-error:0.00043\teval-auc:0.91047\teval-error:0.12805\n",
      "[38]\ttrain-auc:1.00000\ttrain-error:0.00026\teval-auc:0.91166\teval-error:0.12805\n",
      "[39]\ttrain-auc:1.00000\ttrain-error:0.00017\teval-auc:0.91151\teval-error:0.13415\n",
      "[40]\ttrain-auc:1.00000\ttrain-error:0.00017\teval-auc:0.91240\teval-error:0.12805\n",
      "[41]\ttrain-auc:1.00000\ttrain-error:0.00017\teval-auc:0.91181\teval-error:0.12805\n",
      "[42]\ttrain-auc:1.00000\ttrain-error:0.00009\teval-auc:0.91225\teval-error:0.12805\n",
      "[43]\ttrain-auc:1.00000\ttrain-error:0.00009\teval-auc:0.91285\teval-error:0.12805\n",
      "[44]\ttrain-auc:1.00000\ttrain-error:0.00009\teval-auc:0.91374\teval-error:0.12805\n",
      "[45]\ttrain-auc:1.00000\ttrain-error:0.00000\teval-auc:0.91449\teval-error:0.12195\n",
      "[46]\ttrain-auc:1.00000\ttrain-error:0.00000\teval-auc:0.91404\teval-error:0.13415\n",
      "[47]\ttrain-auc:1.00000\ttrain-error:0.00000\teval-auc:0.91285\teval-error:0.13415\n"
     ]
    }
   ],
   "source": [
    "param = { 'objective': 'binary:logistic', \n",
    "'max_depth': 20, 'eta': 0.11, 'gamma': 1.0, 'min_child_weight': 2, 'subsample': 0.8,}\n",
    "\n",
    "param['eval_metric'] = ['auc', 'error']\n",
    "evallist = [(dtrain, 'train'), (dval, 'eval')]\n",
    "num_round = 48\n",
    "bst = xgb.train(param, dtrain, num_round, evallist)"
   ]
  },
  {
   "cell_type": "code",
   "execution_count": 15,
   "metadata": {},
   "outputs": [
    {
     "data": {
      "text/plain": [
       "'[0]\\teval-error:0.22832369942196531\\teval-error:0.22832369942196531'"
      ]
     },
     "execution_count": 15,
     "metadata": {},
     "output_type": "execute_result"
    }
   ],
   "source": [
    "bst.eval(dtest)"
   ]
  },
  {
   "cell_type": "code",
   "execution_count": 4,
   "metadata": {},
   "outputs": [],
   "source": [
    "import mlflow\n",
    "from pathlib import Path\n",
    "mlflow.set_tracking_uri(\"http://127.0.0.1:5000\")\n",
    "experiment_id = mlflow.create_experiment(\n",
    "    \"Feature Extraction VIT + xGBoost\",\n",
    "    tags={\"version\": \"v1\", \"type\": \"vit_features_xgboost\"},\n",
    ")\n",
    "\n",
    "experiment = mlflow.set_experiment(\"Feature Extraction VIT + xGBoost\")"
   ]
  }
 ],
 "metadata": {
  "kernelspec": {
   "display_name": "Python 3.9.13 ('recg')",
   "language": "python",
   "name": "python3"
  },
  "language_info": {
   "codemirror_mode": {
    "name": "ipython",
    "version": 3
   },
   "file_extension": ".py",
   "mimetype": "text/x-python",
   "name": "python",
   "nbconvert_exporter": "python",
   "pygments_lexer": "ipython3",
   "version": "3.9.13"
  },
  "orig_nbformat": 4,
  "vscode": {
   "interpreter": {
    "hash": "b793216b3dd7b47ffae26511feccbf1cb868298f39c032fb85acd5df274c591b"
   }
  }
 },
 "nbformat": 4,
 "nbformat_minor": 2
}
