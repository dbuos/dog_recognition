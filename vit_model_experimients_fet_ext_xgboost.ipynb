{
 "cells": [
  {
   "cell_type": "markdown",
   "metadata": {},
   "source": [
    "#### Vit Train on Features extracted\n",
    "* Create a new Dataset with the extracted features\n",
    "* Create a new model\n",
    "* Train the model"
   ]
  },
  {
   "cell_type": "code",
   "execution_count": 2,
   "metadata": {},
   "outputs": [],
   "source": [
    "from drecg.data.utils import FeaturesDataset\n",
    "train_dataset = FeaturesDataset('features_ext_vit/train_features.pt')\n",
    "train_dataset_augmented = FeaturesDataset('features_ext_vit/train_features_augmented.pt')\n",
    "validation_dataset = FeaturesDataset('features_ext_vit/validation_features.pt')\n",
    "test_dataset = FeaturesDataset('features_ext_vit/test_features.pt')\n"
   ]
  },
  {
   "cell_type": "code",
   "execution_count": 57,
   "metadata": {},
   "outputs": [],
   "source": [
    "import torch\n",
    "import numpy as np\n",
    "x_train = (train_dataset_augmented.features_a - train_dataset_augmented.features_b).numpy()\n",
    "y_train = train_dataset_augmented.labels.numpy()\n",
    "\n",
    "x_val = (validation_dataset.features_a - validation_dataset.features_b).numpy()\n",
    "y_val = validation_dataset.labels.numpy()\n",
    "\n",
    "x_test = (test_dataset.features_a - test_dataset.features_b).numpy()\n",
    "y_test = test_dataset.labels.numpy()"
   ]
  },
  {
   "cell_type": "code",
   "execution_count": 59,
   "metadata": {},
   "outputs": [
    {
     "data": {
      "text/plain": [
       "((346, 1024), (11658, 1024), (164, 1024))"
      ]
     },
     "execution_count": 59,
     "metadata": {},
     "output_type": "execute_result"
    }
   ],
   "source": [
    "x_test.shape, x_train.shape, x_val.shape"
   ]
  },
  {
   "cell_type": "code",
   "execution_count": 60,
   "metadata": {},
   "outputs": [],
   "source": [
    "import xgboost as xgb\n",
    "dtrain = xgb.DMatrix(x_train, label=y_train)\n",
    "dval = xgb.DMatrix(x_val, label=y_val)\n",
    "dtest = xgb.DMatrix(x_test, label=y_test)"
   ]
  },
  {
   "cell_type": "code",
   "execution_count": 72,
   "metadata": {},
   "outputs": [
    {
     "name": "stdout",
     "output_type": "stream",
     "text": [
      "[0]\ttrain-auc:0.72341\ttrain-error:0.29302\teval-auc:0.75506\teval-error:0.26829\n",
      "[1]\ttrain-auc:0.79764\ttrain-error:0.24387\teval-auc:0.81536\teval-error:0.21341\n"
     ]
    },
    {
     "name": "stderr",
     "output_type": "stream",
     "text": [
      "/home/daniel/mambaforge/envs/recg/lib/python3.9/site-packages/xgboost/core.py:568: FutureWarning: Pass `evals` as keyword args.  Passing these as positional arguments will be considered as error in future releases.\n",
      "  warnings.warn(\n"
     ]
    },
    {
     "name": "stdout",
     "output_type": "stream",
     "text": [
      "[2]\ttrain-auc:0.82359\ttrain-error:0.23520\teval-auc:0.84600\teval-error:0.22561\n",
      "[3]\ttrain-auc:0.84873\ttrain-error:0.21856\teval-auc:0.85128\teval-error:0.21951\n",
      "[4]\ttrain-auc:0.87108\ttrain-error:0.18914\teval-auc:0.85901\teval-error:0.19512\n",
      "[5]\ttrain-auc:0.88169\ttrain-error:0.17773\teval-auc:0.87098\teval-error:0.17073\n",
      "[6]\ttrain-auc:0.89183\ttrain-error:0.17096\teval-auc:0.87545\teval-error:0.15244\n",
      "[7]\ttrain-auc:0.89940\ttrain-error:0.16281\teval-auc:0.88028\teval-error:0.16463\n",
      "[8]\ttrain-auc:0.90490\ttrain-error:0.15612\teval-auc:0.88288\teval-error:0.15244\n",
      "[9]\ttrain-auc:0.91052\ttrain-error:0.15097\teval-auc:0.88355\teval-error:0.13415\n",
      "[10]\ttrain-auc:0.91449\ttrain-error:0.14599\teval-auc:0.88355\teval-error:0.15244\n",
      "[11]\ttrain-auc:0.91692\ttrain-error:0.14162\teval-auc:0.88712\teval-error:0.14634\n",
      "[12]\ttrain-auc:0.91980\ttrain-error:0.13604\teval-auc:0.88980\teval-error:0.12805\n",
      "[13]\ttrain-auc:0.92256\ttrain-error:0.13373\teval-auc:0.88757\teval-error:0.13415\n",
      "[14]\ttrain-auc:0.92502\ttrain-error:0.13013\teval-auc:0.88601\teval-error:0.12195\n",
      "[15]\ttrain-auc:0.92681\ttrain-error:0.12498\teval-auc:0.88697\teval-error:0.12195\n",
      "[16]\ttrain-auc:0.92811\ttrain-error:0.12301\teval-auc:0.88742\teval-error:0.11585\n",
      "[17]\ttrain-auc:0.93041\ttrain-error:0.12026\teval-auc:0.89099\teval-error:0.10366\n",
      "[18]\ttrain-auc:0.93175\ttrain-error:0.11975\teval-auc:0.89247\teval-error:0.08537\n",
      "[19]\ttrain-auc:0.93310\ttrain-error:0.11752\teval-auc:0.89857\teval-error:0.08537\n",
      "[20]\ttrain-auc:0.93346\ttrain-error:0.11649\teval-auc:0.89946\teval-error:0.10976\n",
      "[21]\ttrain-auc:0.93436\ttrain-error:0.11426\teval-auc:0.89917\teval-error:0.10976\n",
      "[22]\ttrain-auc:0.93528\ttrain-error:0.11340\teval-auc:0.89827\teval-error:0.10976\n",
      "[23]\ttrain-auc:0.93648\ttrain-error:0.11254\teval-auc:0.90281\teval-error:0.10366\n",
      "[24]\ttrain-auc:0.93799\ttrain-error:0.11117\teval-auc:0.90400\teval-error:0.10976\n",
      "[25]\ttrain-auc:0.93889\ttrain-error:0.10842\teval-auc:0.90326\teval-error:0.10366\n",
      "[26]\ttrain-auc:0.93963\ttrain-error:0.10748\teval-auc:0.90504\teval-error:0.10366\n",
      "[27]\ttrain-auc:0.94035\ttrain-error:0.10697\teval-auc:0.90579\teval-error:0.11585\n",
      "[28]\ttrain-auc:0.94143\ttrain-error:0.10645\teval-auc:0.90608\teval-error:0.11585\n",
      "[29]\ttrain-auc:0.94220\ttrain-error:0.10499\teval-auc:0.90355\teval-error:0.11585\n",
      "[30]\ttrain-auc:0.94328\ttrain-error:0.10371\teval-auc:0.90616\teval-error:0.10366\n",
      "[31]\ttrain-auc:0.94388\ttrain-error:0.10293\teval-auc:0.90601\teval-error:0.10366\n",
      "[32]\ttrain-auc:0.94453\ttrain-error:0.10233\teval-auc:0.90631\teval-error:0.10366\n",
      "[33]\ttrain-auc:0.94518\ttrain-error:0.10027\teval-auc:0.90735\teval-error:0.10366\n",
      "[34]\ttrain-auc:0.94619\ttrain-error:0.10045\teval-auc:0.90839\teval-error:0.10976\n",
      "[35]\ttrain-auc:0.94680\ttrain-error:0.09813\teval-auc:0.90854\teval-error:0.10366\n",
      "[36]\ttrain-auc:0.94733\ttrain-error:0.09650\teval-auc:0.90794\teval-error:0.10366\n",
      "[37]\ttrain-auc:0.94781\ttrain-error:0.09667\teval-auc:0.90854\teval-error:0.10366\n",
      "[38]\ttrain-auc:0.94840\ttrain-error:0.09590\teval-auc:0.90839\teval-error:0.11585\n",
      "[39]\ttrain-auc:0.94882\ttrain-error:0.09504\teval-auc:0.90988\teval-error:0.11585\n",
      "[40]\ttrain-auc:0.94928\ttrain-error:0.09350\teval-auc:0.90898\teval-error:0.11585\n",
      "[41]\ttrain-auc:0.94943\ttrain-error:0.09418\teval-auc:0.90973\teval-error:0.11585\n",
      "[42]\ttrain-auc:0.94996\ttrain-error:0.09290\teval-auc:0.90973\teval-error:0.11585\n",
      "[43]\ttrain-auc:0.95124\ttrain-error:0.09204\teval-auc:0.90779\teval-error:0.11585\n",
      "[44]\ttrain-auc:0.95201\ttrain-error:0.09075\teval-auc:0.90824\teval-error:0.11585\n",
      "[45]\ttrain-auc:0.95228\ttrain-error:0.08972\teval-auc:0.90898\teval-error:0.11585\n",
      "[46]\ttrain-auc:0.95299\ttrain-error:0.08964\teval-auc:0.90943\teval-error:0.11585\n",
      "[47]\ttrain-auc:0.95336\ttrain-error:0.08912\teval-auc:0.91002\teval-error:0.10976\n"
     ]
    }
   ],
   "source": [
    "param = { 'objective': 'binary:logistic', \n",
    "'max_depth': 4, 'eta': 0.15, 'gamma': 1.5, 'min_child_weight': 1.5, 'subsample': 0.8,}\n",
    "\n",
    "param['eval_metric'] = ['auc', 'error']\n",
    "evallist = [(dtrain, 'train'), (dval, 'eval')]\n",
    "num_round = 48\n",
    "bst = xgb.train(param, dtrain, num_round, evallist)"
   ]
  },
  {
   "cell_type": "code",
   "execution_count": 73,
   "metadata": {},
   "outputs": [
    {
     "data": {
      "text/plain": [
       "'[0]\\teval-error:0.20520231213872833\\teval-error:0.20520231213872833'"
      ]
     },
     "execution_count": 73,
     "metadata": {},
     "output_type": "execute_result"
    }
   ],
   "source": [
    "bst.eval(dtest)"
   ]
  },
  {
   "cell_type": "code",
   "execution_count": 4,
   "metadata": {},
   "outputs": [],
   "source": [
    "import mlflow\n",
    "from pathlib import Path\n",
    "mlflow.set_tracking_uri(\"http://127.0.0.1:5000\")\n",
    "experiment_id = mlflow.create_experiment(\n",
    "    \"Feature Extraction VIT + xGBoost\",\n",
    "    tags={\"version\": \"v1\", \"type\": \"vit_features_xgboost\"},\n",
    ")\n",
    "\n",
    "experiment = mlflow.set_experiment(\"Feature Extraction VIT + xGBoost\")"
   ]
  }
 ],
 "metadata": {
  "kernelspec": {
   "display_name": "Python 3.9.13 ('recg')",
   "language": "python",
   "name": "python3"
  },
  "language_info": {
   "codemirror_mode": {
    "name": "ipython",
    "version": 3
   },
   "file_extension": ".py",
   "mimetype": "text/x-python",
   "name": "python",
   "nbconvert_exporter": "python",
   "pygments_lexer": "ipython3",
   "version": "3.9.13"
  },
  "orig_nbformat": 4,
  "vscode": {
   "interpreter": {
    "hash": "b793216b3dd7b47ffae26511feccbf1cb868298f39c032fb85acd5df274c591b"
   }
  }
 },
 "nbformat": 4,
 "nbformat_minor": 2
}
